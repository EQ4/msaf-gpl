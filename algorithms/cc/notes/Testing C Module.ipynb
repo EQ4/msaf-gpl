{
 "metadata": {
  "name": "",
  "signature": "sha256:59cf24ac55852468252525f0db98fba403bf639684ab03c0c3ab787f15007ec9"
 },
 "nbformat": 3,
 "nbformat_minor": 0,
 "worksheets": [
  {
   "cells": [
    {
     "cell_type": "code",
     "collapsed": false,
     "input": [
      "# Tests the C module\n",
      "import sys\n",
      "sys.path.append(\"..\")\n",
      "import cc_segmenter as CC\n",
      "\n",
      "test_array = np.linspace(1, 10)\n",
      "CC.segment(test_array)\n",
      "print \"merda\""
     ],
     "language": "python",
     "metadata": {},
     "outputs": [
      {
       "output_type": "stream",
       "stream": "stdout",
       "text": [
        "merda\n"
       ]
      }
     ],
     "prompt_number": 4
    }
   ],
   "metadata": {}
  }
 ]
}